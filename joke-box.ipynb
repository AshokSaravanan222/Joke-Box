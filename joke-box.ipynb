{
 "cells": [
  {
   "cell_type": "code",
   "execution_count": 1,
   "id": "e2f44a3d",
   "metadata": {
    "_cell_guid": "b1076dfc-b9ad-4769-8c92-a6c4dae69d19",
    "_uuid": "8f2839f25d086af736a60e9eeb907d3b93b6e0e5",
    "execution": {
     "iopub.execute_input": "2023-02-08T19:20:12.023918Z",
     "iopub.status.busy": "2023-02-08T19:20:12.023114Z",
     "iopub.status.idle": "2023-02-08T19:20:12.043136Z",
     "shell.execute_reply": "2023-02-08T19:20:12.041853Z"
    },
    "papermill": {
     "duration": 0.029085,
     "end_time": "2023-02-08T19:20:12.045949",
     "exception": false,
     "start_time": "2023-02-08T19:20:12.016864",
     "status": "completed"
    },
    "tags": []
   },
   "outputs": [
    {
     "name": "stdout",
     "output_type": "stream",
     "text": [
      "/kaggle/input/qa-jokes/jokes.csv\n"
     ]
    }
   ],
   "source": [
    "# This Python 3 environment comes with many helpful analytics libraries installed\n",
    "# It is defined by the kaggle/python Docker image: https://github.com/kaggle/docker-python\n",
    "# For example, here's several helpful packages to load\n",
    "\n",
    "import numpy as np # linear algebra\n",
    "import pandas as pd # data processing, CSV file I/O (e.g. pd.read_csv)\n",
    "\n",
    "# Input data files are available in the read-only \"../input/\" directory\n",
    "# For example, running this (by clicking run or pressing Shift+Enter) will list all files under the input directory\n",
    "\n",
    "import os\n",
    "for dirname, _, filenames in os.walk('/kaggle/input'):\n",
    "    for filename in filenames:\n",
    "        print(os.path.join(dirname, filename))\n",
    "\n",
    "# You can write up to 20GB to the current directory (/kaggle/working/) that gets preserved as output when you create a version using \"Save & Run All\" \n",
    "# You can also write temporary files to /kaggle/temp/, but they won't be saved outside of the current session"
   ]
  },
  {
   "cell_type": "code",
   "execution_count": 2,
   "id": "0d6a2528",
   "metadata": {
    "execution": {
     "iopub.execute_input": "2023-02-08T19:20:12.054582Z",
     "iopub.status.busy": "2023-02-08T19:20:12.054226Z",
     "iopub.status.idle": "2023-02-08T19:20:13.501653Z",
     "shell.execute_reply": "2023-02-08T19:20:13.500839Z"
    },
    "papermill": {
     "duration": 1.454421,
     "end_time": "2023-02-08T19:20:13.504216",
     "exception": false,
     "start_time": "2023-02-08T19:20:12.049795",
     "status": "completed"
    },
    "tags": []
   },
   "outputs": [],
   "source": [
    "#import statements\n",
    "\n",
    "import pandas as pd\n",
    "import numpy as np\n",
    "import nltk\n",
    "from nltk.util import ngrams"
   ]
  },
  {
   "cell_type": "code",
   "execution_count": 3,
   "id": "3cd39100",
   "metadata": {
    "execution": {
     "iopub.execute_input": "2023-02-08T19:20:13.514278Z",
     "iopub.status.busy": "2023-02-08T19:20:13.513086Z",
     "iopub.status.idle": "2023-02-08T19:20:13.525916Z",
     "shell.execute_reply": "2023-02-08T19:20:13.524760Z"
    },
    "papermill": {
     "duration": 0.01996,
     "end_time": "2023-02-08T19:20:13.528095",
     "exception": false,
     "start_time": "2023-02-08T19:20:13.508135",
     "status": "completed"
    },
    "tags": []
   },
   "outputs": [
    {
     "data": {
      "text/plain": [
       "['animal',\n",
       " 'blonde',\n",
       " 'blue-collar',\n",
       " 'cross-the-road',\n",
       " 'dark-humor',\n",
       " 'dirty',\n",
       " 'doctor',\n",
       " 'fat',\n",
       " 'food',\n",
       " 'god',\n",
       " 'gross',\n",
       " 'insults',\n",
       " 'kids',\n",
       " 'lawyer',\n",
       " 'little-johnny',\n",
       " 'lookin--good',\n",
       " 'marriage',\n",
       " 'men-women',\n",
       " 'miscellaneous',\n",
       " 'money',\n",
       " 'nationality',\n",
       " 'news---politics',\n",
       " 'nsfw',\n",
       " 'partying---bad-behavior',\n",
       " 'pick-up-lines',\n",
       " 'police---military',\n",
       " 'pop-culture---celebrity',\n",
       " 'school',\n",
       " 'sports---athletes',\n",
       " 'technology',\n",
       " 'travel---car',\n",
       " 'walks-into-a-bar',\n",
       " 'work',\n",
       " 'yo--mama']"
      ]
     },
     "execution_count": 3,
     "metadata": {},
     "output_type": "execute_result"
    }
   ],
   "source": [
    "# Credit to felipessantos:\n",
    "# https://github.com/felipessantos/ScrapyProject\n",
    "\n",
    "# Data Pre-Processing\n",
    "arquivo =['httpjokes.cc.comfunny-animal','httpjokes.cc.comfunny-blonde','httpjokes.cc.comfunny-blue-collar',\n",
    "          'httpjokes.cc.comfunny-cross-the-road','httpjokes.cc.comfunny-dark-humor','httpjokes.cc.comfunny-dirty',\n",
    "          'httpjokes.cc.comfunny-doctor','httpjokes.cc.comfunny-fat','httpjokes.cc.comfunny-food',\n",
    "          'httpjokes.cc.comfunny-god','httpjokes.cc.comfunny-gross','httpjokes.cc.comfunny-insults',\n",
    "          'httpjokes.cc.comfunny-kids','httpjokes.cc.comfunny-lawyer','httpjokes.cc.comfunny-little-johnny',\n",
    "          'httpjokes.cc.comfunny-lookin--good','httpjokes.cc.comfunny-marriage','httpjokes.cc.comfunny-men-women',\n",
    "          'httpjokes.cc.comfunny-miscellaneous','httpjokes.cc.comfunny-money','httpjokes.cc.comfunny-nationality',\n",
    "          'httpjokes.cc.comfunny-news---politics','httpjokes.cc.comfunny-nsfw','httpjokes.cc.comfunny-partying---bad-behavior',\n",
    "          'httpjokes.cc.comfunny-pick-up-lines','httpjokes.cc.comfunny-police---military','httpjokes.cc.comfunny-pop-culture---celebrity',\n",
    "          'httpjokes.cc.comfunny-school','httpjokes.cc.comfunny-sports---athletes','httpjokes.cc.comfunny-technology',\n",
    "          'httpjokes.cc.comfunny-travel---car','httpjokes.cc.comfunny-walks-into-a-bar','httpjokes.cc.comfunny-work',\n",
    "          'httpjokes.cc.comfunny-yo--mama']\n",
    "labels = [joke[22:] for joke in arquivo]\n",
    "labels"
   ]
  },
  {
   "cell_type": "code",
   "execution_count": 4,
   "id": "cc65198e",
   "metadata": {
    "execution": {
     "iopub.execute_input": "2023-02-08T19:20:13.538121Z",
     "iopub.status.busy": "2023-02-08T19:20:13.536992Z",
     "iopub.status.idle": "2023-02-08T19:20:13.739636Z",
     "shell.execute_reply": "2023-02-08T19:20:13.738582Z"
    },
    "papermill": {
     "duration": 0.209727,
     "end_time": "2023-02-08T19:20:13.741816",
     "exception": false,
     "start_time": "2023-02-08T19:20:13.532089",
     "status": "completed"
    },
    "tags": []
   },
   "outputs": [
    {
     "data": {
      "text/html": [
       "<div>\n",
       "<style scoped>\n",
       "    .dataframe tbody tr th:only-of-type {\n",
       "        vertical-align: middle;\n",
       "    }\n",
       "\n",
       "    .dataframe tbody tr th {\n",
       "        vertical-align: top;\n",
       "    }\n",
       "\n",
       "    .dataframe thead th {\n",
       "        text-align: right;\n",
       "    }\n",
       "</style>\n",
       "<table border=\"1\" class=\"dataframe\">\n",
       "  <thead>\n",
       "    <tr style=\"text-align: right;\">\n",
       "      <th></th>\n",
       "      <th>Label</th>\n",
       "      <th>Question</th>\n",
       "      <th>Answer</th>\n",
       "    </tr>\n",
       "  </thead>\n",
       "  <tbody>\n",
       "    <tr>\n",
       "      <th>0</th>\n",
       "      <td></td>\n",
       "      <td>Did you hear about the Native American man tha...</td>\n",
       "      <td>He nearly drown in his own tea pee.</td>\n",
       "    </tr>\n",
       "    <tr>\n",
       "      <th>1</th>\n",
       "      <td></td>\n",
       "      <td>What's the best anti diarrheal prescription?</td>\n",
       "      <td>Mycheexarphlexin</td>\n",
       "    </tr>\n",
       "    <tr>\n",
       "      <th>2</th>\n",
       "      <td></td>\n",
       "      <td>What do you call a person who is outside a doo...</td>\n",
       "      <td>Matt</td>\n",
       "    </tr>\n",
       "    <tr>\n",
       "      <th>3</th>\n",
       "      <td></td>\n",
       "      <td>Which Star Trek character is a member of the m...</td>\n",
       "      <td>Jean-Luc Pickacard</td>\n",
       "    </tr>\n",
       "    <tr>\n",
       "      <th>4</th>\n",
       "      <td></td>\n",
       "      <td>What's the difference between a bullet and a h...</td>\n",
       "      <td>A bullet doesn't miss Harambe</td>\n",
       "    </tr>\n",
       "    <tr>\n",
       "      <th>...</th>\n",
       "      <td>...</td>\n",
       "      <td>...</td>\n",
       "      <td>...</td>\n",
       "    </tr>\n",
       "    <tr>\n",
       "      <th>38264</th>\n",
       "      <td></td>\n",
       "      <td>Q: Why did the pacifist /b/tard try to calm ev...</td>\n",
       "      <td>He did it for the</td>\n",
       "    </tr>\n",
       "    <tr>\n",
       "      <th>38265</th>\n",
       "      <td></td>\n",
       "      <td>Q: Why can't Obama poke fun at himself?</td>\n",
       "      <td>A: Because that would be racist.</td>\n",
       "    </tr>\n",
       "    <tr>\n",
       "      <th>38266</th>\n",
       "      <td></td>\n",
       "      <td>Why is gambling not allowed in Africa?</td>\n",
       "      <td>Because there are too many cheetahs.</td>\n",
       "    </tr>\n",
       "    <tr>\n",
       "      <th>38267</th>\n",
       "      <td></td>\n",
       "      <td>What do you call three witches in a hot tub?</td>\n",
       "      <td>A self-cleaning coven.</td>\n",
       "    </tr>\n",
       "    <tr>\n",
       "      <th>38268</th>\n",
       "      <td></td>\n",
       "      <td>What do scientists use to measure a chicken's ...</td>\n",
       "      <td>An egg timer</td>\n",
       "    </tr>\n",
       "  </tbody>\n",
       "</table>\n",
       "<p>38269 rows × 3 columns</p>\n",
       "</div>"
      ],
      "text/plain": [
       "      Label                                           Question  \\\n",
       "0            Did you hear about the Native American man tha...   \n",
       "1                 What's the best anti diarrheal prescription?   \n",
       "2            What do you call a person who is outside a doo...   \n",
       "3            Which Star Trek character is a member of the m...   \n",
       "4            What's the difference between a bullet and a h...   \n",
       "...     ...                                                ...   \n",
       "38264        Q: Why did the pacifist /b/tard try to calm ev...   \n",
       "38265                  Q: Why can't Obama poke fun at himself?   \n",
       "38266                   Why is gambling not allowed in Africa?   \n",
       "38267             What do you call three witches in a hot tub?   \n",
       "38268        What do scientists use to measure a chicken's ...   \n",
       "\n",
       "                                     Answer  \n",
       "0       He nearly drown in his own tea pee.  \n",
       "1                          Mycheexarphlexin  \n",
       "2                                      Matt  \n",
       "3                        Jean-Luc Pickacard  \n",
       "4             A bullet doesn't miss Harambe  \n",
       "...                                     ...  \n",
       "38264                    He did it for the   \n",
       "38265     A: Because that would be racist.   \n",
       "38266  Because there are too many cheetahs.  \n",
       "38267                A self-cleaning coven.  \n",
       "38268                          An egg timer  \n",
       "\n",
       "[38269 rows x 3 columns]"
      ]
     },
     "execution_count": 4,
     "metadata": {},
     "output_type": "execute_result"
    }
   ],
   "source": [
    "# Creating base dataframe\n",
    "categories = ['animal','blonde','blue-collar','cross-the-road','dark-humor',\n",
    "          'dirty','doctor','fat','food','god','gross','insults','kids',\n",
    "          'lawyer','little-johnny','lookin--good','marriage','men-women',\n",
    "          'miscellaneous','money','nationality','news---politics','nsfw',\n",
    "          'partying---bad-behavior','pick-up-lines','police---military',\n",
    "          'pop-culture---celebrity','school','sports---athletes','technology',\n",
    "          'travel---car','walks-into-a-bar','work','yo--mama']\n",
    "\n",
    "df = pd.read_csv(\"/kaggle/input/qa-jokes/jokes.csv\")\n",
    "\n",
    "df.rename(columns={\"ID\": \"Label\"},\n",
    "          inplace=True, errors='raise')\n",
    "df = df.assign(Label=' ')\n",
    "df"
   ]
  },
  {
   "cell_type": "code",
   "execution_count": 5,
   "id": "2dff2b7a",
   "metadata": {
    "execution": {
     "iopub.execute_input": "2023-02-08T19:20:13.751904Z",
     "iopub.status.busy": "2023-02-08T19:20:13.751177Z",
     "iopub.status.idle": "2023-02-08T19:20:13.794876Z",
     "shell.execute_reply": "2023-02-08T19:20:13.793430Z"
    },
    "papermill": {
     "duration": 0.05138,
     "end_time": "2023-02-08T19:20:13.797412",
     "exception": false,
     "start_time": "2023-02-08T19:20:13.746032",
     "status": "completed"
    },
    "tags": []
   },
   "outputs": [
    {
     "name": "stdout",
     "output_type": "stream",
     "text": [
      "[{0: <zip object at 0x7f449621d8c0>, 1: <zip object at 0x7f44961b98c0>, 2: <zip object at 0x7f44961b9aa0>}, {0: <zip object at 0x7f44961b9b40>, 1: <zip object at 0x7f44961b9e10>, 2: <zip object at 0x7f44961bc0a0>}, {0: <zip object at 0x7f44961bc190>, 1: <zip object at 0x7f44961bc370>, 2: <zip object at 0x7f44961bc550>}, {0: <zip object at 0x7f44961bc5f0>, 1: <zip object at 0x7f44961bc690>, 2: <zip object at 0x7f44961bca00>}, {0: <zip object at 0x7f44961bcaf0>, 1: <zip object at 0x7f44961bccd0>, 2: <zip object at 0x7f44961bceb0>}, {0: <zip object at 0x7f44961bf050>, 1: <zip object at 0x7f44961bf1e0>, 2: <zip object at 0x7f44961bf410>}, {0: <zip object at 0x7f44961bf500>, 1: <zip object at 0x7f44961bf6e0>, 2: <zip object at 0x7f44961bf960>}, {0: <zip object at 0x7f44961bf780>, 1: <zip object at 0x7f44961bfb40>, 2: <zip object at 0x7f44961bfeb0>}, {0: <zip object at 0x7f44961c20a0>, 1: <zip object at 0x7f44961c2230>, 2: <zip object at 0x7f44961c2460>}, {0: <zip object at 0x7f44961c2280>, 1: <zip object at 0x7f44961c2730>, 2: <zip object at 0x7f44961c29b0>}]\n"
     ]
    }
   ],
   "source": [
    "# Creating unigrams, bigrams, and trigrams for each joke\n",
    "\n",
    "N = 3\n",
    "n_grams_list = []\n",
    "full_jokes = (df['Question'].to_numpy() + \" \" + df['Answer'].to_numpy()).tolist()\n",
    "\n",
    "for joke in full_jokes[:10]:\n",
    "    n_grams_data = {gram: ngrams(sequence=nltk.word_tokenize(joke), n=gram + 1) for gram in range(N)}\n",
    "    n_grams_list.append(n_grams_data)\n",
    "\n",
    "print(n_grams_list)\n",
    "\n"
   ]
  },
  {
   "cell_type": "code",
   "execution_count": 6,
   "id": "38cf0b13",
   "metadata": {
    "execution": {
     "iopub.execute_input": "2023-02-08T19:20:13.807757Z",
     "iopub.status.busy": "2023-02-08T19:20:13.807399Z",
     "iopub.status.idle": "2023-02-08T19:20:13.811641Z",
     "shell.execute_reply": "2023-02-08T19:20:13.810589Z"
    },
    "papermill": {
     "duration": 0.011909,
     "end_time": "2023-02-08T19:20:13.813852",
     "exception": false,
     "start_time": "2023-02-08T19:20:13.801943",
     "status": "completed"
    },
    "tags": []
   },
   "outputs": [],
   "source": [
    "# Creating unigrams, bigrams, and trigrams for each category\n",
    "\n",
    "# Credit to felipe santos: https://github.com/felipessantos/ScrapyProject/blob/master/ScrapyProject.ipynb\n",
    "\n"
   ]
  },
  {
   "cell_type": "code",
   "execution_count": 7,
   "id": "9c7ac44f",
   "metadata": {
    "execution": {
     "iopub.execute_input": "2023-02-08T19:20:13.823341Z",
     "iopub.status.busy": "2023-02-08T19:20:13.823004Z",
     "iopub.status.idle": "2023-02-08T19:20:13.885994Z",
     "shell.execute_reply": "2023-02-08T19:20:13.884252Z"
    },
    "papermill": {
     "duration": 0.07119,
     "end_time": "2023-02-08T19:20:13.889156",
     "exception": false,
     "start_time": "2023-02-08T19:20:13.817966",
     "status": "completed"
    },
    "tags": []
   },
   "outputs": [
    {
     "name": "stderr",
     "output_type": "stream",
     "text": [
      "100%|██████████| 1/1 [00:00<00:00, 79.12it/s]"
     ]
    },
    {
     "name": "stdout",
     "output_type": "stream",
     "text": [
      "('Why',)\n",
      "('ca',)\n",
      "(\"n't\",)\n",
      "('Donald',)\n",
      "('Trump',)\n",
      "('be',)\n",
      "('circumcised',)\n",
      "('?',)\n",
      "('Because',)\n",
      "('there',)\n",
      "('is',)\n",
      "('no',)\n",
      "('end',)\n",
      "('to',)\n",
      "('that',)\n",
      "('prick',)\n",
      "('.',)\n"
     ]
    },
    {
     "name": "stderr",
     "output_type": "stream",
     "text": [
      "\n"
     ]
    },
    {
     "data": {
      "text/html": [
       "<div>\n",
       "<style scoped>\n",
       "    .dataframe tbody tr th:only-of-type {\n",
       "        vertical-align: middle;\n",
       "    }\n",
       "\n",
       "    .dataframe tbody tr th {\n",
       "        vertical-align: top;\n",
       "    }\n",
       "\n",
       "    .dataframe thead th {\n",
       "        text-align: right;\n",
       "    }\n",
       "</style>\n",
       "<table border=\"1\" class=\"dataframe\">\n",
       "  <thead>\n",
       "    <tr style=\"text-align: right;\">\n",
       "      <th></th>\n",
       "      <th>Unigrams</th>\n",
       "      <th>Bigrams</th>\n",
       "      <th>Trigrams</th>\n",
       "    </tr>\n",
       "  </thead>\n",
       "  <tbody>\n",
       "  </tbody>\n",
       "</table>\n",
       "</div>"
      ],
      "text/plain": [
       "Empty DataFrame\n",
       "Columns: [Unigrams, Bigrams, Trigrams]\n",
       "Index: []"
      ]
     },
     "execution_count": 7,
     "metadata": {},
     "output_type": "execute_result"
    }
   ],
   "source": [
    "# Creating unigrams, bigrams, and trigrams\n",
    "\n",
    "# NLTK function to generate ngrams\n",
    "import nltk\n",
    "from tqdm import tqdm\n",
    "from nltk.util import ngrams\n",
    "\n",
    "ngramdf = pd.DataFrame(columns=[\"Unigrams\", \"Bigrams\", \"Trigrams\"])\n",
    "for joke in tqdm(list(set(df.Question + \" \" + df.Answer))[0:1]):\n",
    "    unigrams = ngrams(sequence=nltk.word_tokenize(joke), n=1)\n",
    "    bigrams = ngrams(sequence=nltk.word_tokenize(joke), n=2)\n",
    "    trigrams = ngrams(sequence=nltk.word_tokenize(joke), n=3)\n",
    "    for gram in unigrams:\n",
    "        print(gram)\n",
    "    df.append(pd.DataFrame(columns=[unigrams, bigrams, trigrams]))\n",
    "ngramdf.head()"
   ]
  },
  {
   "cell_type": "code",
   "execution_count": 8,
   "id": "ab6075bc",
   "metadata": {
    "execution": {
     "iopub.execute_input": "2023-02-08T19:20:13.900171Z",
     "iopub.status.busy": "2023-02-08T19:20:13.899235Z",
     "iopub.status.idle": "2023-02-08T19:20:15.239844Z",
     "shell.execute_reply": "2023-02-08T19:20:15.238789Z"
    },
    "papermill": {
     "duration": 1.348532,
     "end_time": "2023-02-08T19:20:15.242324",
     "exception": false,
     "start_time": "2023-02-08T19:20:13.893792",
     "status": "completed"
    },
    "tags": []
   },
   "outputs": [],
   "source": [
    "from sklearn.feature_extraction.text import TfidfVectorizer\n",
    "tfidf = TfidfVectorizer(sublinear_tf=True, min_df=10, norm='l2',\n",
    "                        encoding='latin-1', ngram_range=(1,2), stop_words='english')\n",
    "features = tfidf.fit_transform(df.Question).toarray()"
   ]
  },
  {
   "cell_type": "code",
   "execution_count": 9,
   "id": "1d6b1c0c",
   "metadata": {
    "execution": {
     "iopub.execute_input": "2023-02-08T19:20:15.253048Z",
     "iopub.status.busy": "2023-02-08T19:20:15.252607Z",
     "iopub.status.idle": "2023-02-08T19:20:15.261495Z",
     "shell.execute_reply": "2023-02-08T19:20:15.260432Z"
    },
    "papermill": {
     "duration": 0.016624,
     "end_time": "2023-02-08T19:20:15.263674",
     "exception": false,
     "start_time": "2023-02-08T19:20:15.247050",
     "status": "completed"
    },
    "tags": []
   },
   "outputs": [
    {
     "data": {
      "text/plain": [
       "[('did', 737),\n",
       " ('hear', 1438),\n",
       " ('native', 2060),\n",
       " ('american', 93),\n",
       " ('man', 1898),\n",
       " ('drank', 959),\n",
       " ('200', 13),\n",
       " ('tea', 2941),\n",
       " ('did hear', 776),\n",
       " ('native american', 2061)]"
      ]
     },
     "execution_count": 9,
     "metadata": {},
     "output_type": "execute_result"
    }
   ],
   "source": [
    "list(tfidf.vocabulary_.items())[:10]"
   ]
  },
  {
   "cell_type": "code",
   "execution_count": 10,
   "id": "21e6ebb5",
   "metadata": {
    "execution": {
     "iopub.execute_input": "2023-02-08T19:20:15.273980Z",
     "iopub.status.busy": "2023-02-08T19:20:15.273632Z",
     "iopub.status.idle": "2023-02-08T19:20:17.656114Z",
     "shell.execute_reply": "2023-02-08T19:20:17.655005Z"
    },
    "papermill": {
     "duration": 2.390054,
     "end_time": "2023-02-08T19:20:17.658320",
     "exception": false,
     "start_time": "2023-02-08T19:20:15.268266",
     "status": "completed"
    },
    "tags": []
   },
   "outputs": [
    {
     "data": {
      "text/html": [
       "<div>\n",
       "<style scoped>\n",
       "    .dataframe tbody tr th:only-of-type {\n",
       "        vertical-align: middle;\n",
       "    }\n",
       "\n",
       "    .dataframe tbody tr th {\n",
       "        vertical-align: top;\n",
       "    }\n",
       "\n",
       "    .dataframe thead th {\n",
       "        text-align: right;\n",
       "    }\n",
       "</style>\n",
       "<table border=\"1\" class=\"dataframe\">\n",
       "  <thead>\n",
       "    <tr style=\"text-align: right;\">\n",
       "      <th></th>\n",
       "      <th>000</th>\n",
       "      <th>10</th>\n",
       "      <th>100</th>\n",
       "      <th>1000</th>\n",
       "      <th>11</th>\n",
       "      <th>12</th>\n",
       "      <th>12 inches</th>\n",
       "      <th>13</th>\n",
       "      <th>14</th>\n",
       "      <th>15</th>\n",
       "      <th>...</th>\n",
       "      <th>yoga</th>\n",
       "      <th>yogurt</th>\n",
       "      <th>york</th>\n",
       "      <th>young</th>\n",
       "      <th>zebra</th>\n",
       "      <th>zero</th>\n",
       "      <th>zippo</th>\n",
       "      <th>zombie</th>\n",
       "      <th>zombies</th>\n",
       "      <th>zoo</th>\n",
       "    </tr>\n",
       "  </thead>\n",
       "  <tbody>\n",
       "    <tr>\n",
       "      <th>0</th>\n",
       "      <td>0.0</td>\n",
       "      <td>0.0</td>\n",
       "      <td>0.0</td>\n",
       "      <td>0.0</td>\n",
       "      <td>0.0</td>\n",
       "      <td>0.0</td>\n",
       "      <td>0.0</td>\n",
       "      <td>0.0</td>\n",
       "      <td>0.0</td>\n",
       "      <td>0.0</td>\n",
       "      <td>...</td>\n",
       "      <td>0.0</td>\n",
       "      <td>0.0</td>\n",
       "      <td>0.0</td>\n",
       "      <td>0.0</td>\n",
       "      <td>0.0</td>\n",
       "      <td>0.0</td>\n",
       "      <td>0.0</td>\n",
       "      <td>0.0</td>\n",
       "      <td>0.0</td>\n",
       "      <td>0.0</td>\n",
       "    </tr>\n",
       "    <tr>\n",
       "      <th>1</th>\n",
       "      <td>0.0</td>\n",
       "      <td>0.0</td>\n",
       "      <td>0.0</td>\n",
       "      <td>0.0</td>\n",
       "      <td>0.0</td>\n",
       "      <td>0.0</td>\n",
       "      <td>0.0</td>\n",
       "      <td>0.0</td>\n",
       "      <td>0.0</td>\n",
       "      <td>0.0</td>\n",
       "      <td>...</td>\n",
       "      <td>0.0</td>\n",
       "      <td>0.0</td>\n",
       "      <td>0.0</td>\n",
       "      <td>0.0</td>\n",
       "      <td>0.0</td>\n",
       "      <td>0.0</td>\n",
       "      <td>0.0</td>\n",
       "      <td>0.0</td>\n",
       "      <td>0.0</td>\n",
       "      <td>0.0</td>\n",
       "    </tr>\n",
       "    <tr>\n",
       "      <th>2</th>\n",
       "      <td>0.0</td>\n",
       "      <td>0.0</td>\n",
       "      <td>0.0</td>\n",
       "      <td>0.0</td>\n",
       "      <td>0.0</td>\n",
       "      <td>0.0</td>\n",
       "      <td>0.0</td>\n",
       "      <td>0.0</td>\n",
       "      <td>0.0</td>\n",
       "      <td>0.0</td>\n",
       "      <td>...</td>\n",
       "      <td>0.0</td>\n",
       "      <td>0.0</td>\n",
       "      <td>0.0</td>\n",
       "      <td>0.0</td>\n",
       "      <td>0.0</td>\n",
       "      <td>0.0</td>\n",
       "      <td>0.0</td>\n",
       "      <td>0.0</td>\n",
       "      <td>0.0</td>\n",
       "      <td>0.0</td>\n",
       "    </tr>\n",
       "    <tr>\n",
       "      <th>3</th>\n",
       "      <td>0.0</td>\n",
       "      <td>0.0</td>\n",
       "      <td>0.0</td>\n",
       "      <td>0.0</td>\n",
       "      <td>0.0</td>\n",
       "      <td>0.0</td>\n",
       "      <td>0.0</td>\n",
       "      <td>0.0</td>\n",
       "      <td>0.0</td>\n",
       "      <td>0.0</td>\n",
       "      <td>...</td>\n",
       "      <td>0.0</td>\n",
       "      <td>0.0</td>\n",
       "      <td>0.0</td>\n",
       "      <td>0.0</td>\n",
       "      <td>0.0</td>\n",
       "      <td>0.0</td>\n",
       "      <td>0.0</td>\n",
       "      <td>0.0</td>\n",
       "      <td>0.0</td>\n",
       "      <td>0.0</td>\n",
       "    </tr>\n",
       "    <tr>\n",
       "      <th>4</th>\n",
       "      <td>0.0</td>\n",
       "      <td>0.0</td>\n",
       "      <td>0.0</td>\n",
       "      <td>0.0</td>\n",
       "      <td>0.0</td>\n",
       "      <td>0.0</td>\n",
       "      <td>0.0</td>\n",
       "      <td>0.0</td>\n",
       "      <td>0.0</td>\n",
       "      <td>0.0</td>\n",
       "      <td>...</td>\n",
       "      <td>0.0</td>\n",
       "      <td>0.0</td>\n",
       "      <td>0.0</td>\n",
       "      <td>0.0</td>\n",
       "      <td>0.0</td>\n",
       "      <td>0.0</td>\n",
       "      <td>0.0</td>\n",
       "      <td>0.0</td>\n",
       "      <td>0.0</td>\n",
       "      <td>0.0</td>\n",
       "    </tr>\n",
       "  </tbody>\n",
       "</table>\n",
       "<p>5 rows × 3320 columns</p>\n",
       "</div>"
      ],
      "text/plain": [
       "   000   10  100  1000   11   12  12 inches   13   14   15  ...  yoga  yogurt  \\\n",
       "0  0.0  0.0  0.0   0.0  0.0  0.0        0.0  0.0  0.0  0.0  ...   0.0     0.0   \n",
       "1  0.0  0.0  0.0   0.0  0.0  0.0        0.0  0.0  0.0  0.0  ...   0.0     0.0   \n",
       "2  0.0  0.0  0.0   0.0  0.0  0.0        0.0  0.0  0.0  0.0  ...   0.0     0.0   \n",
       "3  0.0  0.0  0.0   0.0  0.0  0.0        0.0  0.0  0.0  0.0  ...   0.0     0.0   \n",
       "4  0.0  0.0  0.0   0.0  0.0  0.0        0.0  0.0  0.0  0.0  ...   0.0     0.0   \n",
       "\n",
       "   york  young  zebra  zero  zippo  zombie  zombies  zoo  \n",
       "0   0.0    0.0    0.0   0.0    0.0     0.0      0.0  0.0  \n",
       "1   0.0    0.0    0.0   0.0    0.0     0.0      0.0  0.0  \n",
       "2   0.0    0.0    0.0   0.0    0.0     0.0      0.0  0.0  \n",
       "3   0.0    0.0    0.0   0.0    0.0     0.0      0.0  0.0  \n",
       "4   0.0    0.0    0.0   0.0    0.0     0.0      0.0  0.0  \n",
       "\n",
       "[5 rows x 3320 columns]"
      ]
     },
     "execution_count": 10,
     "metadata": {},
     "output_type": "execute_result"
    }
   ],
   "source": [
    "df_joke_vec = pd.DataFrame(features,index = df.index).rename(columns = {v:k for k,v in tfidf.vocabulary_.items()})\n",
    "df_joke_vec.head()"
   ]
  },
  {
   "cell_type": "code",
   "execution_count": 11,
   "id": "63d2c8be",
   "metadata": {
    "execution": {
     "iopub.execute_input": "2023-02-08T19:20:17.671492Z",
     "iopub.status.busy": "2023-02-08T19:20:17.671154Z",
     "iopub.status.idle": "2023-02-08T19:20:20.592446Z",
     "shell.execute_reply": "2023-02-08T19:20:20.590992Z"
    },
    "papermill": {
     "duration": 2.931904,
     "end_time": "2023-02-08T19:20:20.595654",
     "exception": false,
     "start_time": "2023-02-08T19:20:17.663750",
     "status": "completed"
    },
    "tags": []
   },
   "outputs": [
    {
     "name": "stdout",
     "output_type": "stream",
     "text": [
      "animal\n",
      "  . Most correlated unigrams:\n",
      ". explosion\n",
      ". zoo\n",
      "  . Most correlated bigrams:\n",
      ". fall swing\n",
      ". ex girlfriend\n",
      " \n",
      "doctor\n",
      "  . Most correlated unigrams:\n",
      ". explosion\n",
      ". zoo\n",
      "  . Most correlated bigrams:\n",
      ". fall swing\n",
      ". ex girlfriend\n",
      " \n",
      "food\n",
      "  . Most correlated unigrams:\n",
      ". explosion\n",
      ". zoo\n",
      "  . Most correlated bigrams:\n",
      ". fall swing\n",
      ". ex girlfriend\n",
      " \n",
      "partying---bad-behavior\n",
      "  . Most correlated unigrams:\n",
      ". explosion\n",
      ". zoo\n",
      "  . Most correlated bigrams:\n",
      ". fall swing\n",
      ". ex girlfriend\n",
      " \n",
      "technology\n",
      "  . Most correlated unigrams:\n",
      ". explosion\n",
      ". zoo\n",
      "  . Most correlated bigrams:\n",
      ". fall swing\n",
      ". ex girlfriend\n",
      " \n",
      "walks-into-a-bar\n",
      "  . Most correlated unigrams:\n",
      ". explosion\n",
      ". zoo\n",
      "  . Most correlated bigrams:\n",
      ". fall swing\n",
      ". ex girlfriend\n",
      " \n"
     ]
    }
   ],
   "source": [
    "from sklearn.feature_selection import chi2\n",
    "#Compute chi-squared stats between each non-negative feature and class.\n",
    "    ## This score can be used to select the n_features features with \n",
    "    ## the highest values for the test chi-squared statistic from X, \n",
    "    ## which must contain only non-negative features such as booleans or frequencies \n",
    "    ## (e.g., term counts in document classification), relative to the classes.\n",
    "\n",
    "    ## Recall that the chi-square test measures dependence between stochastic variables, \n",
    "    ## so using this function “weeds out” the features that are the most likely to be \n",
    "    ## independent of class and therefore irrelevant for classification.\n",
    "    \n",
    "    # Testa se suas variaveis categoricas sao idempendentes\n",
    "\n",
    "\n",
    "import numpy as np\n",
    "N = 2\n",
    "labels = df.Label\n",
    "\n",
    "# for label in list(set(df.Label)):\n",
    "for label in [0,6,8,23,29,31]:\n",
    "    features_chi2 = chi2(features, labels == label)\n",
    "    indices = np.argsort(features_chi2[0])\n",
    "    feature_names = np.array(tfidf.get_feature_names_out())[indices]\n",
    "    unigrams = [v for v in feature_names if len(v.split(' ')) == 1]\n",
    "    bigrams = [v for v in feature_names if len(v.split(' ')) == 2]\n",
    "    trigrams = [v for v in feature_names if len(v.split(' ')) == 3]    \n",
    "    print(categories[label])\n",
    "    print(\"  . Most correlated unigrams:\\n. {}\".format('\\n. '.join(unigrams[-N:])))\n",
    "    print(\"  . Most correlated bigrams:\\n. {}\".format('\\n. '.join(bigrams[-N:])))\n",
    " #   print(\"  . Most correlated bigrams:\\n. {}\".format('\\n. '.join(trigrams[-N:])))    \n",
    "    print(' ')"
   ]
  }
 ],
 "metadata": {
  "kernelspec": {
   "display_name": "Python 3",
   "language": "python",
   "name": "python3"
  },
  "language_info": {
   "codemirror_mode": {
    "name": "ipython",
    "version": 3
   },
   "file_extension": ".py",
   "mimetype": "text/x-python",
   "name": "python",
   "nbconvert_exporter": "python",
   "pygments_lexer": "ipython3",
   "version": "3.7.12"
  },
  "papermill": {
   "default_parameters": {},
   "duration": 17.586641,
   "end_time": "2023-02-08T19:20:21.422636",
   "environment_variables": {},
   "exception": null,
   "input_path": "__notebook__.ipynb",
   "output_path": "__notebook__.ipynb",
   "parameters": {},
   "start_time": "2023-02-08T19:20:03.835995",
   "version": "2.3.4"
  }
 },
 "nbformat": 4,
 "nbformat_minor": 5
}
